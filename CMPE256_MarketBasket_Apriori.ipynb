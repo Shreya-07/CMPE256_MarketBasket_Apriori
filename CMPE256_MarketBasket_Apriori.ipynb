{
  "nbformat": 4,
  "nbformat_minor": 0,
  "metadata": {
    "colab": {
      "name": "CMPE256_MarketBasket_Apriori.ipynb",
      "provenance": [],
      "toc_visible": true,
      "authorship_tag": "ABX9TyPsdW2KAGNH6w+5Q7yetTQk",
      "include_colab_link": true
    },
    "kernelspec": {
      "name": "python3",
      "display_name": "Python 3"
    },
    "language_info": {
      "name": "python"
    }
  },
  "cells": [
    {
      "cell_type": "markdown",
      "metadata": {
        "id": "view-in-github",
        "colab_type": "text"
      },
      "source": [
        "<a href=\"https://colab.research.google.com/github/Shreya-07/CMPE256_MarketBasket_Apriori/blob/main/CMPE256_MarketBasket_Apriori.ipynb\" target=\"_parent\"><img src=\"https://colab.research.google.com/assets/colab-badge.svg\" alt=\"Open In Colab\"/></a>"
      ]
    },
    {
      "cell_type": "markdown",
      "metadata": {
        "id": "YKmSZ_VgDcz-"
      },
      "source": [
        "**Installing necessary libraries**"
      ]
    },
    {
      "cell_type": "code",
      "metadata": {
        "colab": {
          "base_uri": "https://localhost:8080/"
        },
        "id": "aa3tLabqlQ8f",
        "outputId": "62fba647-1af9-4955-c368-4f4c320428d7"
      },
      "source": [
        "!pip install mlxtend --upgrade"
      ],
      "execution_count": 8,
      "outputs": [
        {
          "output_type": "stream",
          "name": "stdout",
          "text": [
            "Requirement already satisfied: mlxtend in /usr/local/lib/python3.7/dist-packages (0.19.0)\n",
            "Requirement already satisfied: joblib>=0.13.2 in /usr/local/lib/python3.7/dist-packages (from mlxtend) (1.1.0)\n",
            "Requirement already satisfied: numpy>=1.16.2 in /usr/local/lib/python3.7/dist-packages (from mlxtend) (1.19.5)\n",
            "Requirement already satisfied: matplotlib>=3.0.0 in /usr/local/lib/python3.7/dist-packages (from mlxtend) (3.2.2)\n",
            "Requirement already satisfied: scikit-learn>=0.20.3 in /usr/local/lib/python3.7/dist-packages (from mlxtend) (1.0.1)\n",
            "Requirement already satisfied: scipy>=1.2.1 in /usr/local/lib/python3.7/dist-packages (from mlxtend) (1.4.1)\n",
            "Requirement already satisfied: pandas>=0.24.2 in /usr/local/lib/python3.7/dist-packages (from mlxtend) (1.1.5)\n",
            "Requirement already satisfied: setuptools in /usr/local/lib/python3.7/dist-packages (from mlxtend) (57.4.0)\n",
            "Requirement already satisfied: kiwisolver>=1.0.1 in /usr/local/lib/python3.7/dist-packages (from matplotlib>=3.0.0->mlxtend) (1.3.2)\n",
            "Requirement already satisfied: pyparsing!=2.0.4,!=2.1.2,!=2.1.6,>=2.0.1 in /usr/local/lib/python3.7/dist-packages (from matplotlib>=3.0.0->mlxtend) (3.0.6)\n",
            "Requirement already satisfied: cycler>=0.10 in /usr/local/lib/python3.7/dist-packages (from matplotlib>=3.0.0->mlxtend) (0.11.0)\n",
            "Requirement already satisfied: python-dateutil>=2.1 in /usr/local/lib/python3.7/dist-packages (from matplotlib>=3.0.0->mlxtend) (2.8.2)\n",
            "Requirement already satisfied: pytz>=2017.2 in /usr/local/lib/python3.7/dist-packages (from pandas>=0.24.2->mlxtend) (2018.9)\n",
            "Requirement already satisfied: six>=1.5 in /usr/local/lib/python3.7/dist-packages (from python-dateutil>=2.1->matplotlib>=3.0.0->mlxtend) (1.15.0)\n",
            "Requirement already satisfied: threadpoolctl>=2.0.0 in /usr/local/lib/python3.7/dist-packages (from scikit-learn>=0.20.3->mlxtend) (3.0.0)\n"
          ]
        }
      ]
    },
    {
      "cell_type": "markdown",
      "metadata": {
        "id": "jS4Jqw7-DoY1"
      },
      "source": [
        "**installing necessary libraries**"
      ]
    },
    {
      "cell_type": "code",
      "metadata": {
        "id": "NbSgACjPsehF"
      },
      "source": [
        "import pandas as pd\n",
        "from mlxtend.preprocessing import TransactionEncoder\n",
        "from mlxtend.frequent_patterns import apriori, association_rules"
      ],
      "execution_count": 3,
      "outputs": []
    },
    {
      "cell_type": "markdown",
      "metadata": {
        "id": "vcrvV4ZLDuWi"
      },
      "source": [
        "**Importing dataset**"
      ]
    },
    {
      "cell_type": "code",
      "metadata": {
        "colab": {
          "base_uri": "https://localhost:8080/"
        },
        "id": "of1cgnWZsjYh",
        "outputId": "d2302fa6-ea5a-483b-c901-2df4f77d7786"
      },
      "source": [
        "from google.colab import drive\n",
        "drive.mount('/content/gdrive')"
      ],
      "execution_count": 4,
      "outputs": [
        {
          "output_type": "stream",
          "name": "stdout",
          "text": [
            "Mounted at /content/gdrive\n"
          ]
        }
      ]
    },
    {
      "cell_type": "markdown",
      "metadata": {
        "id": "pidI6y_MD2Gq"
      },
      "source": [
        "**Loading dataset and performing necessary transactions**"
      ]
    },
    {
      "cell_type": "code",
      "metadata": {
        "id": "Uw7OWi0issje"
      },
      "source": [
        "dataset = pd.read_csv('/content/gdrive/MyDrive/TRAIN-ARULES.csv')\n",
        "#dataset.product_name = [\"\".join(i.split(\",\")) for i in dataset.product_name]\n",
        "#order_labels = dataset.order_id.unique()\n",
        "#transactions = [dataset[dataset.order_id == i][\"product_name\"].tolist() for i in order_labels]\n",
        "#trans_encoder = TransactionEncoder().fit(transactions)\n",
        "#transactions = trans_encoder.transform(transactions)\n",
        "#transactions = pd.DataFrame(transactions,columns=trans_encoder.columns_)"
      ],
      "execution_count": 11,
      "outputs": []
    },
    {
      "cell_type": "markdown",
      "metadata": {
        "id": "SZ_Apge8ECdc"
      },
      "source": [
        "**Calculate the frequent itemset using Apriori, also calculate the Association rules using Apriori**"
      ]
    },
    {
      "cell_type": "code",
      "metadata": {
        "id": "8yzy-YmBEF_3"
      },
      "source": [
        "freq_itemset_using_apriori = apriori(transactions, min_support = 0.01, use_colnames = True)\n",
        "association_rules_using_apriori = association_rules(freq_itemset_using_apriori, metric = \"confidence\")"
      ],
      "execution_count": 21,
      "outputs": []
    },
    {
      "cell_type": "markdown",
      "metadata": {
        "id": "5PeU6O7cEKzn"
      },
      "source": [
        "**Association Rules generation using Apriori Method**"
      ]
    },
    {
      "cell_type": "code",
      "metadata": {
        "id": "VLeshEl0ESAV",
        "outputId": "795849eb-8d6f-45f8-fb5d-70ac15a97cb6",
        "colab": {
          "base_uri": "https://localhost:8080/"
        }
      },
      "source": [
        "print(\"Association Rules using Apriori Method:- \\n\")\n",
        "for item in association_rules_using_apriori.iterrows():\n",
        "  print(f\"Rule {item[0] + 1}: {tuple(item[1].antecedents)} -> {tuple(item[1].consequents)}\")"
      ],
      "execution_count": 22,
      "outputs": [
        {
          "output_type": "stream",
          "name": "stdout",
          "text": [
            "Association Rules using Apriori Method:- \n",
            "\n",
            "Rule 1: ('Petit Suisse Fruit',) -> ('Authentic French Brioche',)\n",
            "Rule 2: ('Authentic French Brioche',) -> ('Petit Suisse Fruit',)\n",
            "Rule 3: ('Cran-Apple Juice Drink',) -> ('Oatmeal Crème Pies',)\n",
            "Rule 4: ('Oatmeal Crème Pies',) -> ('Cran-Apple Juice Drink',)\n",
            "Rule 5: ('Sparkling Water Natural Mango Essenced',) -> ('Dark Chocolate Minis',)\n",
            "Rule 6: ('Grade A Extra Large Eggs',) -> ('Natural Lime Flavor Sparkling Mineral Water',)\n",
            "Rule 7: ('Lemon Sparkling Water',) -> ('Orange Sparkling Water',)\n",
            "Rule 8: ('Light Oaked Chardonnay',) -> ('Natural Lime Flavor Sparkling Mineral Water',)\n",
            "Rule 9: ('Reduced Fat Milk',) -> ('Natural Artesian Bottled Water',)\n",
            "Rule 10: ('Organic Graham Crunch Cereal',) -> ('Organic Heritage Flakes Cereal',)\n",
            "Rule 11: ('Sparkling Water Natural Mango Essenced',) -> ('Organic Pink Lemonade Bunny Fruit Snacks',)\n",
            "Rule 12: ('Sparkling Water Natural Mango Essenced',) -> ('Peach-Pear Sparkling Water',)\n",
            "Rule 13: ('Zero Calorie Cola',) -> ('Soda',)\n",
            "Rule 14: ('Total 0% Raspberry Yogurt',) -> ('Total 2% with Strawberry Lowfat Greek Strained Yogurt',)\n",
            "Rule 15: ('Total 2% Lowfat Greek Strained Yogurt With Blueberry',) -> ('Total 2% with Strawberry Lowfat Greek Strained Yogurt',)\n",
            "Rule 16: ('Dark Chocolate Minis', 'Peach-Pear Sparkling Water') -> ('Organic Pink Lemonade Bunny Fruit Snacks',)\n",
            "Rule 17: ('Peach-Pear Sparkling Water', 'Organic Pink Lemonade Bunny Fruit Snacks') -> ('Dark Chocolate Minis',)\n",
            "Rule 18: ('Sparkling Water Natural Mango Essenced', 'Dark Chocolate Minis') -> ('Organic Pink Lemonade Bunny Fruit Snacks',)\n",
            "Rule 19: ('Sparkling Water Natural Mango Essenced', 'Organic Pink Lemonade Bunny Fruit Snacks') -> ('Dark Chocolate Minis',)\n",
            "Rule 20: ('Sparkling Water Natural Mango Essenced',) -> ('Dark Chocolate Minis', 'Organic Pink Lemonade Bunny Fruit Snacks')\n",
            "Rule 21: ('Sparkling Water Natural Mango Essenced', 'Dark Chocolate Minis') -> ('Peach-Pear Sparkling Water',)\n",
            "Rule 22: ('Sparkling Water Natural Mango Essenced', 'Peach-Pear Sparkling Water') -> ('Dark Chocolate Minis',)\n",
            "Rule 23: ('Dark Chocolate Minis', 'Peach-Pear Sparkling Water') -> ('Sparkling Water Natural Mango Essenced',)\n",
            "Rule 24: ('Sparkling Water Natural Mango Essenced',) -> ('Dark Chocolate Minis', 'Peach-Pear Sparkling Water')\n",
            "Rule 25: ('Light Oaked Chardonnay', 'Natural Lime Flavor Sparkling Mineral Water') -> ('Grade A Extra Large Eggs',)\n",
            "Rule 26: ('Light Oaked Chardonnay', 'Grade A Extra Large Eggs') -> ('Natural Lime Flavor Sparkling Mineral Water',)\n",
            "Rule 27: ('Organic Heritage Flakes Cereal', 'Peach-Pear Sparkling Water') -> ('Organic Pink Lemonade Bunny Fruit Snacks',)\n",
            "Rule 28: ('Sparkling Water Natural Mango Essenced', 'Peach-Pear Sparkling Water') -> ('Organic Pink Lemonade Bunny Fruit Snacks',)\n",
            "Rule 29: ('Sparkling Water Natural Mango Essenced', 'Organic Pink Lemonade Bunny Fruit Snacks') -> ('Peach-Pear Sparkling Water',)\n",
            "Rule 30: ('Peach-Pear Sparkling Water', 'Organic Pink Lemonade Bunny Fruit Snacks') -> ('Sparkling Water Natural Mango Essenced',)\n",
            "Rule 31: ('Sparkling Water Natural Mango Essenced',) -> ('Peach-Pear Sparkling Water', 'Organic Pink Lemonade Bunny Fruit Snacks')\n",
            "Rule 32: ('Sparkling Water Natural Mango Essenced', 'Dark Chocolate Minis', 'Peach-Pear Sparkling Water') -> ('Organic Pink Lemonade Bunny Fruit Snacks',)\n",
            "Rule 33: ('Sparkling Water Natural Mango Essenced', 'Dark Chocolate Minis', 'Organic Pink Lemonade Bunny Fruit Snacks') -> ('Peach-Pear Sparkling Water',)\n",
            "Rule 34: ('Sparkling Water Natural Mango Essenced', 'Peach-Pear Sparkling Water', 'Organic Pink Lemonade Bunny Fruit Snacks') -> ('Dark Chocolate Minis',)\n",
            "Rule 35: ('Dark Chocolate Minis', 'Peach-Pear Sparkling Water', 'Organic Pink Lemonade Bunny Fruit Snacks') -> ('Sparkling Water Natural Mango Essenced',)\n",
            "Rule 36: ('Sparkling Water Natural Mango Essenced', 'Dark Chocolate Minis') -> ('Peach-Pear Sparkling Water', 'Organic Pink Lemonade Bunny Fruit Snacks')\n",
            "Rule 37: ('Sparkling Water Natural Mango Essenced', 'Peach-Pear Sparkling Water') -> ('Dark Chocolate Minis', 'Organic Pink Lemonade Bunny Fruit Snacks')\n",
            "Rule 38: ('Sparkling Water Natural Mango Essenced', 'Organic Pink Lemonade Bunny Fruit Snacks') -> ('Dark Chocolate Minis', 'Peach-Pear Sparkling Water')\n",
            "Rule 39: ('Dark Chocolate Minis', 'Peach-Pear Sparkling Water') -> ('Sparkling Water Natural Mango Essenced', 'Organic Pink Lemonade Bunny Fruit Snacks')\n"
          ]
        }
      ]
    },
    {
      "cell_type": "markdown",
      "metadata": {
        "id": "jQra2tlWEWz4"
      },
      "source": [
        "**Load Test Rules**"
      ]
    },
    {
      "cell_type": "code",
      "metadata": {
        "id": "JcijtjFgEc6Z",
        "outputId": "827f93e5-3309-4f06-c965-83cc565e1c53",
        "colab": {
          "base_uri": "https://localhost:8080/"
        }
      },
      "source": [
        "data_frame_test = pd.read_csv('/content/gdrive/MyDrive/testarules.csv')\n",
        "data_frame_test.product_name = [\"\".join(i.split(\",\")) for i in data_frame_test]"
      ],
      "execution_count": 24,
      "outputs": [
        {
          "output_type": "stream",
          "name": "stderr",
          "text": [
            "/usr/local/lib/python3.7/dist-packages/ipykernel_launcher.py:2: UserWarning: Pandas doesn't allow columns to be created via a new attribute name - see https://pandas.pydata.org/pandas-docs/stable/indexing.html#attribute-access\n",
            "  \n"
          ]
        }
      ]
    },
    {
      "cell_type": "markdown",
      "metadata": {
        "id": "c3W9veuTEzrP"
      },
      "source": [
        "**Check the test dataset**"
      ]
    },
    {
      "cell_type": "code",
      "metadata": {
        "id": "qes3irmGE22o",
        "outputId": "adbaa81b-cc1a-411a-899e-385dae3bd9d6",
        "colab": {
          "base_uri": "https://localhost:8080/",
          "height": 81
        }
      },
      "source": [
        "data_frame_test"
      ],
      "execution_count": 25,
      "outputs": [
        {
          "output_type": "execute_result",
          "data": {
            "text/html": [
              "<div>\n",
              "<style scoped>\n",
              "    .dataframe tbody tr th:only-of-type {\n",
              "        vertical-align: middle;\n",
              "    }\n",
              "\n",
              "    .dataframe tbody tr th {\n",
              "        vertical-align: top;\n",
              "    }\n",
              "\n",
              "    .dataframe thead th {\n",
              "        text-align: right;\n",
              "    }\n",
              "</style>\n",
              "<table border=\"1\" class=\"dataframe\">\n",
              "  <thead>\n",
              "    <tr style=\"text-align: right;\">\n",
              "      <th></th>\n",
              "      <th>Item1</th>\n",
              "      <th>Item2</th>\n",
              "      <th>Item3</th>\n",
              "      <th>Item4</th>\n",
              "      <th>Item5</th>\n",
              "    </tr>\n",
              "  </thead>\n",
              "  <tbody>\n",
              "    <tr>\n",
              "      <th>0</th>\n",
              "      <td>Dark Chocolate Minis</td>\n",
              "      <td>Organic Pink Lemonade Bunny Fruit Snacks</td>\n",
              "      <td>Peach-Pear Sparkling Water</td>\n",
              "      <td>NaN</td>\n",
              "      <td>NaN</td>\n",
              "    </tr>\n",
              "  </tbody>\n",
              "</table>\n",
              "</div>"
            ],
            "text/plain": [
              "                  Item1                                     Item2  ... Item4  Item5\n",
              "0  Dark Chocolate Minis  Organic Pink Lemonade Bunny Fruit Snacks  ...   NaN    NaN\n",
              "\n",
              "[1 rows x 5 columns]"
            ]
          },
          "metadata": {},
          "execution_count": 25
        }
      ]
    },
    {
      "cell_type": "markdown",
      "metadata": {
        "id": "Gkwup_dKE77o"
      },
      "source": [
        "**support for the first item based on the training dataset**"
      ]
    },
    {
      "cell_type": "code",
      "metadata": {
        "id": "MjxqfXruE_86",
        "outputId": "1370422d-c1b5-4cdb-ceaa-91478ee8b852",
        "colab": {
          "base_uri": "https://localhost:8080/"
        }
      },
      "source": [
        "data_frame_test['Item1']"
      ],
      "execution_count": 26,
      "outputs": [
        {
          "output_type": "execute_result",
          "data": {
            "text/plain": [
              "0    Dark Chocolate Minis\n",
              "Name: Item1, dtype: object"
            ]
          },
          "metadata": {},
          "execution_count": 26
        }
      ]
    },
    {
      "cell_type": "code",
      "metadata": {
        "id": "8oQdyYPIFFeq",
        "outputId": "ea2ee86b-76d4-480b-b05d-ff23157c6660",
        "colab": {
          "base_uri": "https://localhost:8080/",
          "height": 81
        }
      },
      "source": [
        "freq_itemset_using_apriori[ freq_itemset_using_apriori['itemsets'] == {'Dark Chocolate Minis'} ]"
      ],
      "execution_count": 27,
      "outputs": [
        {
          "output_type": "execute_result",
          "data": {
            "text/html": [
              "<div>\n",
              "<style scoped>\n",
              "    .dataframe tbody tr th:only-of-type {\n",
              "        vertical-align: middle;\n",
              "    }\n",
              "\n",
              "    .dataframe tbody tr th {\n",
              "        vertical-align: top;\n",
              "    }\n",
              "\n",
              "    .dataframe thead th {\n",
              "        text-align: right;\n",
              "    }\n",
              "</style>\n",
              "<table border=\"1\" class=\"dataframe\">\n",
              "  <thead>\n",
              "    <tr style=\"text-align: right;\">\n",
              "      <th></th>\n",
              "      <th>support</th>\n",
              "      <th>itemsets</th>\n",
              "    </tr>\n",
              "  </thead>\n",
              "  <tbody>\n",
              "    <tr>\n",
              "      <th>26</th>\n",
              "      <td>0.021157</td>\n",
              "      <td>(Dark Chocolate Minis)</td>\n",
              "    </tr>\n",
              "  </tbody>\n",
              "</table>\n",
              "</div>"
            ],
            "text/plain": [
              "     support                itemsets\n",
              "26  0.021157  (Dark Chocolate Minis)"
            ]
          },
          "metadata": {},
          "execution_count": 27
        }
      ]
    },
    {
      "cell_type": "markdown",
      "metadata": {
        "id": "lU-foazUFCkX"
      },
      "source": [
        "**analysis of the support for the second item based on the training dataset**"
      ]
    },
    {
      "cell_type": "code",
      "metadata": {
        "id": "t1Sfb1OuFQb9",
        "outputId": "8133194f-96f6-4e99-f870-968508510c54",
        "colab": {
          "base_uri": "https://localhost:8080/"
        }
      },
      "source": [
        "data_frame_test['Item2']"
      ],
      "execution_count": 28,
      "outputs": [
        {
          "output_type": "execute_result",
          "data": {
            "text/plain": [
              "0    Organic Pink Lemonade Bunny Fruit Snacks\n",
              "Name: Item2, dtype: object"
            ]
          },
          "metadata": {},
          "execution_count": 28
        }
      ]
    },
    {
      "cell_type": "code",
      "metadata": {
        "id": "J7aS1pVAFT_0",
        "outputId": "b2985098-79c4-4f90-9823-1b319d07cb4c",
        "colab": {
          "base_uri": "https://localhost:8080/",
          "height": 81
        }
      },
      "source": [
        "freq_itemset_using_apriori[ freq_itemset_using_apriori['itemsets'] == {'Organic Pink Lemonade Bunny Fruit Snacks'} ]"
      ],
      "execution_count": 29,
      "outputs": [
        {
          "output_type": "execute_result",
          "data": {
            "text/html": [
              "<div>\n",
              "<style scoped>\n",
              "    .dataframe tbody tr th:only-of-type {\n",
              "        vertical-align: middle;\n",
              "    }\n",
              "\n",
              "    .dataframe tbody tr th {\n",
              "        vertical-align: top;\n",
              "    }\n",
              "\n",
              "    .dataframe thead th {\n",
              "        text-align: right;\n",
              "    }\n",
              "</style>\n",
              "<table border=\"1\" class=\"dataframe\">\n",
              "  <thead>\n",
              "    <tr style=\"text-align: right;\">\n",
              "      <th></th>\n",
              "      <th>support</th>\n",
              "      <th>itemsets</th>\n",
              "    </tr>\n",
              "  </thead>\n",
              "  <tbody>\n",
              "    <tr>\n",
              "      <th>97</th>\n",
              "      <td>0.020451</td>\n",
              "      <td>(Organic Pink Lemonade Bunny Fruit Snacks)</td>\n",
              "    </tr>\n",
              "  </tbody>\n",
              "</table>\n",
              "</div>"
            ],
            "text/plain": [
              "     support                                    itemsets\n",
              "97  0.020451  (Organic Pink Lemonade Bunny Fruit Snacks)"
            ]
          },
          "metadata": {},
          "execution_count": 29
        }
      ]
    },
    {
      "cell_type": "markdown",
      "metadata": {
        "id": "Xv38pgIbFeO-"
      },
      "source": [
        "**analysis of the support for the third item based on the training dataset**"
      ]
    },
    {
      "cell_type": "code",
      "metadata": {
        "id": "ETgwaR44Fk_1",
        "outputId": "d34048e8-6cf6-4c96-e756-abfbb37ebd9c",
        "colab": {
          "base_uri": "https://localhost:8080/"
        }
      },
      "source": [
        "data_frame_test['Item3']"
      ],
      "execution_count": 30,
      "outputs": [
        {
          "output_type": "execute_result",
          "data": {
            "text/plain": [
              "0    Peach-Pear Sparkling Water\n",
              "Name: Item3, dtype: object"
            ]
          },
          "metadata": {},
          "execution_count": 30
        }
      ]
    },
    {
      "cell_type": "code",
      "metadata": {
        "id": "o9gvymCTFn8l",
        "outputId": "2f82b18d-5b39-4365-d4ce-04178244e0ad",
        "colab": {
          "base_uri": "https://localhost:8080/",
          "height": 81
        }
      },
      "source": [
        "freq_itemset_using_apriori[ freq_itemset_using_apriori['itemsets'] == {'Peach-Pear Sparkling Water'} ]"
      ],
      "execution_count": 31,
      "outputs": [
        {
          "output_type": "execute_result",
          "data": {
            "text/html": [
              "<div>\n",
              "<style scoped>\n",
              "    .dataframe tbody tr th:only-of-type {\n",
              "        vertical-align: middle;\n",
              "    }\n",
              "\n",
              "    .dataframe tbody tr th {\n",
              "        vertical-align: top;\n",
              "    }\n",
              "\n",
              "    .dataframe thead th {\n",
              "        text-align: right;\n",
              "    }\n",
              "</style>\n",
              "<table border=\"1\" class=\"dataframe\">\n",
              "  <thead>\n",
              "    <tr style=\"text-align: right;\">\n",
              "      <th></th>\n",
              "      <th>support</th>\n",
              "      <th>itemsets</th>\n",
              "    </tr>\n",
              "  </thead>\n",
              "  <tbody>\n",
              "    <tr>\n",
              "      <th>116</th>\n",
              "      <td>0.016925</td>\n",
              "      <td>(Peach-Pear Sparkling Water)</td>\n",
              "    </tr>\n",
              "  </tbody>\n",
              "</table>\n",
              "</div>"
            ],
            "text/plain": [
              "      support                      itemsets\n",
              "116  0.016925  (Peach-Pear Sparkling Water)"
            ]
          },
          "metadata": {},
          "execution_count": 31
        }
      ]
    }
  ]
}